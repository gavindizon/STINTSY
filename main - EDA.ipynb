{
 "cells": [
  {
   "cell_type": "markdown",
   "metadata": {},
   "source": [
    "# Group 12\n",
    "### Members:\n",
    "- DIZON, GAVIN RAINE R.\n",
    "- PALMARES, ALYSSA JAYE L.\n",
    "- TEE, GIANCARLO T.\n",
    "\n",
    "## An Overview\n",
    "\n",
    "The group would be working on a K-means clustering model for the Five Big Personality traits dataset. To give a brief overview of our task, the goal is to cluster the dataset based on the personality traits in the Big Five Personality Model or the Five-Factor model. The Big Five Personality Model or the Five-Factor Model is used for grouping or clustering people based on personality traits. The model uses common descriptors of common languages. This test is mainly used for career assessment since this gives people more insight in how they react in different situations. In addition, this test uses the Big-Five Factor Markers from the International Personality Item Pool, developed by Goldberg. These are commonly used to describe the human personality and psyche.\n",
    "\n",
    "## OCEAN or Five Factor Makers\n",
    "\n",
    "1. **Extraversion (or Extroversion)** which can be identified as someone who gets motivated or energized in the company of others.\n",
    "\n",
    "2. **Emotional Stability or Neuroticism** is a physical and emotional response to stress and perceived threats in someone’s daily life. This is mostly characterized by sadness or moodiness.\n",
    "3. **Agreeableness** - these people tend to have high or prosocial behaviors. Moreover, People who exhibit high agreeableness will show signs of trust, altruism, kindness, and affection\n",
    "4. **Conscientiousness** - includes having high levels of thoughtfulness, good impulse control, and goal-directed behaviors\n",
    "5. **Openness** - These people are eager to learn and experience new things. They are imaginative and insightful.\n"
   ]
  },
  {
   "cell_type": "markdown",
   "metadata": {},
   "source": [
    "### Importing needed libraries"
   ]
  },
  {
   "cell_type": "code",
   "execution_count": null,
   "metadata": {},
   "outputs": [],
   "source": [
    "#import sys\n",
    "#!{sys.executable} -m pip install yellowbrick"
   ]
  },
  {
   "cell_type": "code",
   "execution_count": null,
   "metadata": {},
   "outputs": [],
   "source": [
    "import numpy as np \n",
    "import pandas as pd\n",
    "import matplotlib.pyplot as plt\n",
    "import seaborn as sns\n",
    "import os\n",
    "\n",
    "from sklearn.preprocessing import MinMaxScaler\n",
    "from sklearn.cluster import KMeans, MiniBatchKMeans\n",
    "from sklearn.decomposition import PCA\n",
    "from yellowbrick.cluster import KElbowVisualizer\n",
    "from sklearn.mixture import GaussianMixture\n",
    "from sklearn.metrics import (silhouette_score, calinski_harabasz_score, davies_bouldin_score)\n",
    "np.random.seed(0)"
   ]
  },
  {
   "cell_type": "markdown",
   "metadata": {},
   "source": [
    "## Initializing Functions to be used later"
   ]
  },
  {
   "cell_type": "code",
   "execution_count": null,
   "metadata": {},
   "outputs": [],
   "source": [
    "# For visualization\n",
    "def vis_questions(groupname, questions, color):\n",
    "    plt.figure(figsize=(15,35))\n",
    "    for i in range(1, 11):\n",
    "        plt.subplot(10,3,i)\n",
    "        plt.hist(data[groupname[i-1]], bins=14, color= color, alpha=.5)\n",
    "        plt.title(questions[groupname[i-1]], fontsize=14)\n",
    "\n",
    "def compare_two_graphs(groupname, questions, arr1, arr2 , grp1_name, grp2_name):\n",
    "    plt.figure(figsize=(15, 35))\n",
    "    labels = [\"Cluster 0\", \"Cluster 1\", \"Cluster 2\", \"Cluster 3\", \"Cluster 4\", \"Population\"]    \n",
    "    for i in range(0, len(arr1)):\n",
    "        plt.subplot(10, 3, i+1)\n",
    "        height = np.append(arr1[i], arr2[i])\n",
    "        plt.bar(labels, height=height, color=[\"blue\",\"blue\",\"blue\",\"blue\", \"blue\", \"green\"], width = 0.4)\n",
    "        plt.title(questions[groupname[i-1]], fontsize=14)"
   ]
  },
  {
   "cell_type": "markdown",
   "metadata": {},
   "source": [
    "## Explaining, Loading, and Preprocessing Data\n",
    "\n",
    "The data was collected through an online interactive personality test from 2016-2018. This survey was made by the International Personality Item Pool (IPIP). Participants were informed and asked for consent that the data will be recorded and used for research. \n",
    "\n",
    "In total, there are `50` questions wherein 10 of which are allotted to a specific factor maker. In the dataset, the questions were labeld as follows:\n",
    "\n",
    "<body>\n",
    "<style> \n",
    "table td, table th, table tr {text-align:left !important;}\n",
    "</style>\n",
    "\n",
    "<table style=\"text-align: left; float:left;\">\n",
    "    <tr>\n",
    "        <th>Extroversion</th>\n",
    "        <th>Emotional Stability</th>\n",
    "        <th>Agreeableness</th>\n",
    "        <th>Conscientiousness</th>\n",
    "        <th>Openness</th>\n",
    "    </tr>\n",
    "    <tr>\n",
    "        <td><b>EXT1</b> I am the life of the party.</td>\n",
    "        <td><b>EST1</b> I get stressed out easily.</td>\n",
    "        <td><b>AGR1</b> I feel little concern for others.</td>\n",
    "        <td><b>CSN1</b> I am always prepared.</td>\n",
    "        <td><b>OPN1</b> I have a rich vocabulary.</td>\n",
    "    </tr>\n",
    "    <tr>\n",
    "        <td><b>EXT2</b> I don't talk a lot.</td>\n",
    "        <td><b>EST2</b> I am relaxed most of the time.</td>\n",
    "        <td><b>AGR2</b> I am interested in people.</td>\n",
    "        <td><b>CSN2</b> I leave my belongings around.</td>\n",
    "        <td><b>OPN2</b> I have difficulty understanding abstract ideas.</td>\n",
    "    </tr>\n",
    "    <tr>\n",
    "        <td><b>EXT2</b> I don't talk a lot.</td>\n",
    "        <td><b>EST2</b> I am relaxed most of the time.</td>\n",
    "        <td><b>AGR2</b> I am interested in people.</td>\n",
    "        <td><b>CSN2</b> I leave my belongings around.</td>\n",
    "        <td><b>OPN2</b> I have difficulty understanding abstract ideas.</td>\n",
    "    </tr>\n",
    "    <tr>\n",
    "        <td><b>EXT3</b> I feel comfortable around people.</td>\n",
    "        <td><b>EST3</b> I worry about things.</td>\n",
    "        <td><b>AGR3</b> I insult people.</td>\n",
    "        <td><b>CSN3</b> I pay attention to details.</td>\n",
    "        <td><b>OPN3</b> I have a vivid imagination.</td>\n",
    "    </tr>\n",
    "    <tr>\n",
    "        <td><b>EXT4</b> I keep in the background.</td>\n",
    "        <td><b>EST4</b> I seldom feel blue.</td>\n",
    "        <td><b>AGR4</b> I sympathize with others' feelings.</td>\n",
    "        <td><b>CSN4</b> I make a mess of things.</td>\n",
    "        <td><b>OPN4</b> I am not interested in abstract ideas.</td>\n",
    "    </tr>\n",
    "    <tr>\n",
    "        <td><b>EXT5</b> I start conversations.</td>\n",
    "        <td><b>EST5</b> I am easily disturbed.</td>\n",
    "        <td><b>AGR5</b> I am not interested in other people's problems.</td>\n",
    "        <td><b>CSN5</b> I get chores done right away.</td>\n",
    "        <td><b>OPN5</b> I have excellent ideas.</td>\n",
    "    </tr>\n",
    "    <tr>\n",
    "        <td><b>EXT6</b> I have little to say.</td>\n",
    "        <td><b>EST6</b> I get upset easily.</td>\n",
    "        <td><b>AGR6</b> I have a soft heart.</td>\n",
    "        <td><b>CSN6</b> I often forget to put things back in their proper place.</td>\n",
    "        <td><b>OPN6</b> I do not have a good imagination.</td>\n",
    "    </tr>\n",
    "    <tr>\n",
    "        <td><b>EXT7</b> I talk to a lot of different people at parties.</td>\n",
    "        <td><b>EST7</b> I change my mood a lot.</td>\n",
    "        <td><b>AGR7</b> I am not really interested in others.</td>\n",
    "        <td><b>CSN7</b> I like order.</td>\n",
    "        <td><b>OPN7</b> I am quick to understand things.</td>\n",
    "    </tr>\n",
    "    <tr>\n",
    "        <td><b>EXT8</b> I don't like to draw attention to myself.</td>\n",
    "        <td><b>EST8</b> I have frequent mood swings.</td>\n",
    "        <td><b>AGR8</b> I take time out for others.</td>\n",
    "        <td><b>CSN8</b> I shirk my duties.</td>\n",
    "        <td><b>OPN8</b> I use difficult words.</td>\n",
    "    </tr>\n",
    "    <tr>\n",
    "        <td><b>EXT9</b> I don't mind being the center of attention.</td>\n",
    "        <td><b>EST9</b> I get irritated easily.</td>\n",
    "        <td><b>AGR9</b> I feel others' emotions.</td>\n",
    "        <td><b>CSN9</b> I follow a schedule.</td>\n",
    "        <td><b>OPN9</b> I spend time reflecting on things.</td>\n",
    "    </tr>\n",
    "    <tr>\n",
    "        <td><b>EXT10</b> I am quiet around strangers.</td>\n",
    "        <td><b>EST10</b> I often feel blue.</td>\n",
    "        <td><b>AGR10</b> I make people feel at ease.</td>\n",
    "        <td><b>CSN10</b> I am exacting in my work.</td>\n",
    "        <td><b>OPN10</b> I am full of ideas.</td>\n",
    "    </tr>\n",
    "</table>   \n",
    "</body>\n",
    "\n",
    "Another columns present in the given dataset are the `country` where the survey was answered, `IPC` or the number of users that share the same IP address when taking the test, and the screen size used when taking the test. There are also columns which measures the time they spent on a single question, the start page, and the end page.\n",
    "\n",
    "### Removing Unused Columns and Rows with Missing Data\n",
    "\n",
    "Since the only valid data from the dataset are the tables related to the survey such as columns containing Personality related questions like  (EXT, EST , AGR, CSN, and OPN) and the IPC, the other unrelated columns are truncated. The rows with missing values are also dropped."
   ]
  },
  {
   "cell_type": "code",
   "execution_count": null,
   "metadata": {
    "scrolled": true
   },
   "outputs": [],
   "source": [
    "data = pd.read_csv('data/data-final.csv', sep='\\t')\n",
    "pd.options.display.max_columns = 150\n",
    "\n",
    "# drop unused columns\n",
    "data.drop(data.columns[50:], axis=1, inplace=True)\n",
    "\n",
    "print('How many missing values? ', data.isnull().values.sum())\n",
    "# drop any rows with missing values.\n",
    "data.dropna(inplace=True)\n",
    "print('Number of participants: ', len(data))\n",
    "data.head()"
   ]
  },
  {
   "cell_type": "markdown",
   "metadata": {},
   "source": [
    "### Removing zeroes and zero-centering data\n",
    "We then remove the zeros from the data as they signify that the person who answered skipped a question or multiple questions. We also zero-center the data to better visualize the respondent's answers by subtracting their answer by 3, which means they are neutral according to the Likert scale. Strongly agree will now be represented as `2`, and strongly disagree is now `-2`. "
   ]
  },
  {
   "cell_type": "code",
   "execution_count": null,
   "metadata": {},
   "outputs": [],
   "source": [
    "# dropping rows with zeros\n",
    "data = data[(data != 0).all(1)]\n",
    "\n",
    "# Subtract 3 pre-processing\n",
    "data = data.apply(lambda x: x - 3)\n",
    "print('Number of participants: ', len(data))\n",
    "data.head()"
   ]
  },
  {
   "cell_type": "markdown",
   "metadata": {},
   "source": [
    "## Initializing Variables for Visualization"
   ]
  },
  {
   "cell_type": "code",
   "execution_count": null,
   "metadata": {},
   "outputs": [],
   "source": [
    "ext_questions = {'EXT1' : 'I am the life of the party',\n",
    "                 'EXT2' : 'I dont talk a lot',\n",
    "                 'EXT3' : 'I feel comfortable around people',\n",
    "                 'EXT4' : 'I keep in the background',\n",
    "                 'EXT5' : 'I start conversations',\n",
    "                 'EXT6' : 'I have little to say',\n",
    "                 'EXT7' : 'I talk to a lot of different people at parties',\n",
    "                 'EXT8' : 'I dont like to draw attention to myself',\n",
    "                 'EXT9' : 'I dont mind being the center of attention',\n",
    "                 'EXT10': 'I am quiet around strangers'}\n",
    "\n",
    "est_questions = {'EST1' : 'I get stressed out easily',\n",
    "                 'EST2' : 'I am relaxed most of the time',\n",
    "                 'EST3' : 'I worry about things',\n",
    "                 'EST4' : 'I seldom feel blue',\n",
    "                 'EST5' : 'I am easily disturbed',\n",
    "                 'EST6' : 'I get upset easily',\n",
    "                 'EST7' : 'I change my mood a lot',\n",
    "                 'EST8' : 'I have frequent mood swings',\n",
    "                 'EST9' : 'I get irritated easily',\n",
    "                 'EST10': 'I often feel blue'}\n",
    "\n",
    "agr_questions = {'AGR1' : 'I feel little concern for others',\n",
    "                 'AGR2' : 'I am interested in people',\n",
    "                 'AGR3' : 'I insult people',\n",
    "                 'AGR4' : 'I sympathize with others feelings',\n",
    "                 'AGR5' : 'I am not interested in other peoples problems',\n",
    "                 'AGR6' : 'I have a soft heart',\n",
    "                 'AGR7' : 'I am not really interested in others',\n",
    "                 'AGR8' : 'I take time out for others',\n",
    "                 'AGR9' : 'I feel others emotions',\n",
    "                 'AGR10': 'I make people feel at ease'}\n",
    "\n",
    "csn_questions = {'CSN1' : 'I am always prepared',\n",
    "                 'CSN2' : 'I leave my belongings around',\n",
    "                 'CSN3' : 'I pay attention to details',\n",
    "                 'CSN4' : 'I make a mess of things',\n",
    "                 'CSN5' : 'I get chores done right away',\n",
    "                 'CSN6' : 'I often forget to put things back in their proper place',\n",
    "                 'CSN7' : 'I like order',\n",
    "                 'CSN8' : 'I shirk my duties',\n",
    "                 'CSN9' : 'I follow a schedule',\n",
    "                 'CSN10' : 'I am exacting in my work'}\n",
    "\n",
    "opn_questions = {'OPN1' : 'I have a rich vocabulary',\n",
    "                 'OPN2' : 'I have difficulty understanding abstract ideas',\n",
    "                 'OPN3' : 'I have a vivid imagination',\n",
    "                 'OPN4' : 'I am not interested in abstract ideas',\n",
    "                 'OPN5' : 'I have excellent ideas',\n",
    "                 'OPN6' : 'I do not have a good imagination',\n",
    "                 'OPN7' : 'I am quick to understand things',\n",
    "                 'OPN8' : 'I use difficult words',\n",
    "                 'OPN9' : 'I spend time reflecting on things',\n",
    "                 'OPN10': 'I am full of ideas'\n",
    "}\n",
    "\n",
    "\n",
    "EXT = [column for column in data if column.startswith('EXT')]\n",
    "EST = [column for column in data if column.startswith('EST')]\n",
    "AGR = [column for column in data if column.startswith('AGR')]\n",
    "CSN = [column for column in data if column.startswith('CSN')]\n",
    "OPN = [column for column in data if column.startswith('OPN')]\n",
    "\n"
   ]
  },
  {
   "cell_type": "markdown",
   "metadata": {},
   "source": [
    "# Exploratory Data Analysis (EDA)"
   ]
  },
  {
   "cell_type": "markdown",
   "metadata": {},
   "source": [
    "## Data Visualization\n",
    "\n",
    "Here, we show the number of respondents and their answers for each questions for each personality makers. "
   ]
  },
  {
   "cell_type": "code",
   "execution_count": null,
   "metadata": {},
   "outputs": [],
   "source": [
    "print('Q&As Related to Extroversion Personality')\n",
    "vis_questions(EXT, ext_questions, 'black')"
   ]
  },
  {
   "cell_type": "code",
   "execution_count": null,
   "metadata": {},
   "outputs": [],
   "source": [
    "print('Q&As Related to Emotional Stability Personality')\n",
    "vis_questions(EST, est_questions, 'black')"
   ]
  },
  {
   "cell_type": "code",
   "execution_count": null,
   "metadata": {},
   "outputs": [],
   "source": [
    "print('Q&As Related to Agreeableness Personality')\n",
    "vis_questions(AGR, agr_questions, 'black')"
   ]
  },
  {
   "cell_type": "code",
   "execution_count": null,
   "metadata": {},
   "outputs": [],
   "source": [
    "print('Q&As Related to Conscentiousness Personality')\n",
    "vis_questions(CSN, csn_questions, 'black')"
   ]
  },
  {
   "cell_type": "code",
   "execution_count": null,
   "metadata": {},
   "outputs": [],
   "source": [
    "print('Q&As Related to Openness Personality')\n",
    "vis_questions(OPN, opn_questions, 'black')"
   ]
  },
  {
   "cell_type": "code",
   "execution_count": null,
   "metadata": {},
   "outputs": [],
   "source": [
    "#ADD MORE EDA HERE"
   ]
  },
  {
   "cell_type": "markdown",
   "metadata": {},
   "source": [
    "\n",
    "# The Task\n",
    "\n",
    "The main task is to create clusters with the given data. The main problem with these kind of dataset is that there is no exact `label` that we can use to create the clustering. There are unsupervised machine learning models that handle this situation but for this experiment, we will be using the **K-Means cluster**.\n",
    "\n",
    "\n",
    "> K-means cluster is an iterative algorithm that divides an unlabeled dataset into *k* different clusters in such a way that each row in the dataset belongs only to one group that has similar properties or `features`. \n",
    "\n",
    "Similar, to the K-nearest neighbor algorithm, this algorithm makes use of a centroid where each cluster is associated with it. Since we will be evaulating the five personality makers, we will be setting our number of clusters `k` to 5."
   ]
  },
  {
   "cell_type": "code",
   "execution_count": null,
   "metadata": {},
   "outputs": [],
   "source": [
    "df = data\n",
    "\n",
    "kmeans = KMeans(n_clusters=5, random_state=42)\n",
    "k_fit = kmeans.fit(df)\n",
    "predictions = k_fit.labels_\n",
    "\n",
    "# Create a new column of clusters to predict the data\n",
    "df['Cluster'] = predictions"
   ]
  },
  {
   "cell_type": "markdown",
   "metadata": {},
   "source": [
    "### Analysis\n",
    "\n",
    "Now, we get the mean of each of the personality makers for each clusters. "
   ]
  },
  {
   "cell_type": "code",
   "execution_count": null,
   "metadata": {},
   "outputs": [],
   "source": [
    "col_list = list(df)\n",
    "ext = col_list[0:10]\n",
    "est = col_list[10:20]\n",
    "agr = col_list[20:30]\n",
    "csn = col_list[30:40]\n",
    "opn = col_list[40:50]\n",
    "\n",
    "data_sums = pd.DataFrame()\n",
    "data_sums['extroversion'] = df[ext].sum(axis=1)/10\n",
    "data_sums['neurotic'] = df[est].sum(axis=1)/10\n",
    "data_sums['agreeable'] = df[agr].sum(axis=1)/10\n",
    "data_sums['conscientious'] = df[csn].sum(axis=1)/10\n",
    "data_sums['open'] = df[opn].sum(axis=1)/10\n",
    "data_sums['clusters'] = predictions\n",
    "data_sums.groupby('clusters').mean()"
   ]
  },
  {
   "cell_type": "markdown",
   "metadata": {},
   "source": [
    "## Principal Component Analysis\n",
    "\n",
    "**Prinicipal Component analysis (PCA)** is a dimensionality-reduction method used to reduce dimensionality (or features) of large datasets, by transforming a large set of variables into a smaller one that still contains most of the information in the large set. However, dimensionality-reduction would have a minimal trade-off to the accuracy of the result. Here, we use PCA to visualize the personality clusters. To do this, we will be reducing the features from 50 (the number of questions) to 2 `n_components`. This is for us to visualize the graph in a 2D-plane."
   ]
  },
  {
   "cell_type": "code",
   "execution_count": null,
   "metadata": {},
   "outputs": [],
   "source": [
    "#PCA?"
   ]
  },
  {
   "cell_type": "code",
   "execution_count": null,
   "metadata": {},
   "outputs": [],
   "source": [
    "pca = PCA(n_components=2)\n",
    "pca_fit = pca.fit_transform(df)\n",
    "\n",
    "df_pca = pd.DataFrame(data=pca_fit, columns=['PCA1', 'PCA2'])\n",
    "df_pca['Clusters'] = predictions"
   ]
  },
  {
   "cell_type": "code",
   "execution_count": null,
   "metadata": {},
   "outputs": [],
   "source": [
    "plt.figure(figsize=(10,10))\n",
    "sns.scatterplot(data=df_pca, x='PCA1', y='PCA2', hue='Clusters', palette='tab10', alpha=0.8)\n",
    "plt.title('Personality Clusters after PCA (K-Means)');"
   ]
  },
  {
   "cell_type": "markdown",
   "metadata": {},
   "source": [
    "## Finding an optimum number of groups\n",
    "\n",
    "\n",
    "### Elbow\n",
    "The question now is is the value `5` the best `k` for the clustering given the data. `KElbowVisualizer` is used to find an optimal number  of clusters for k-means clustering using the \"elbow\" method. Here, we pass a range of k's to evaluate. Once we fit this to the data we can make use of its attribute, the elbow value which is the optimum value."
   ]
  },
  {
   "cell_type": "code",
   "execution_count": null,
   "metadata": {},
   "outputs": [],
   "source": [
    "#KElbowVisualizer?\n",
    "# Elbow Method - (check)\n",
    "# Gap Statistics - (wala pa) "
   ]
  },
  {
   "cell_type": "code",
   "execution_count": null,
   "metadata": {},
   "outputs": [],
   "source": [
    "df_opt = data.drop('Cluster', axis=1)\n",
    "\n",
    "columns = list(df_opt.columns)\n",
    "#columns.remove('Cluster')\n",
    "\n",
    "scaler = MinMaxScaler(feature_range=(0,1))\n",
    "df_opt = scaler.fit_transform(df_opt)\n",
    "df_opt = pd.DataFrame(df_opt, columns=columns)\n",
    "visualizer = KElbowVisualizer(KMeans(verbose=1), k=(2,8))"
   ]
  },
  {
   "cell_type": "code",
   "execution_count": null,
   "metadata": {},
   "outputs": [],
   "source": [
    "\n",
    "visualizer.elbow_value_"
   ]
  },
  {
   "cell_type": "markdown",
   "metadata": {},
   "source": [
    "With the graph shown above, we can prove that `5` is the most optimal number for clustering the dataset. Now let's try to find the optimum number with the `Gap Statistics` method.\n",
    "\n",
    "\n",
    "### Gap Statistics"
   ]
  },
  {
   "cell_type": "markdown",
   "metadata": {},
   "source": []
  },
  {
   "cell_type": "markdown",
   "metadata": {},
   "source": [
    "# Alternative Models\n",
    "\n",
    "Other than the usual K-means cluster approach, there are also alternative methods that we can use to cluster an unlabeled dataset. \n",
    "\n",
    "## Batch K-Means\n",
    "\n",
    "Mini-Batch K-Means uses small, random fixed-size batch of data to store in memory and with each iteration, a random sample of the data will be collected and used in updating the clusters.\n"
   ]
  },
  {
   "cell_type": "code",
   "execution_count": null,
   "metadata": {},
   "outputs": [],
   "source": [
    "MiniBatchKMeans?"
   ]
  },
  {
   "cell_type": "code",
   "execution_count": null,
   "metadata": {},
   "outputs": [],
   "source": [
    "df_mb = data\n",
    "\n",
    "mbKMeans = MiniBatchKMeans(n_clusters=5, max_iter=500, verbose=1, random_state=42)\n",
    "mbKMeans.fit(df_mb)\n",
    "\n",
    "# Create a new column of clusters to predict the data\n",
    "df_mb['Cluster'] = mbKMeans.labels_"
   ]
  },
  {
   "cell_type": "markdown",
   "metadata": {},
   "source": [
    "### Get Mean"
   ]
  },
  {
   "cell_type": "code",
   "execution_count": null,
   "metadata": {},
   "outputs": [],
   "source": [
    "col_list = list(df_mb)\n",
    "ext = col_list[0:10]\n",
    "est = col_list[10:20]\n",
    "agr = col_list[20:30]\n",
    "csn = col_list[30:40]\n",
    "opn = col_list[40:50]\n",
    "\n",
    "data_sums_mb = pd.DataFrame()\n",
    "data_sums_mb['extroversion'] = df_mb[ext].sum(axis=1)/10\n",
    "data_sums_mb['neurotic'] = df_mb[est].sum(axis=1)/10\n",
    "data_sums_mb['agreeable'] = df_mb[agr].sum(axis=1)/10\n",
    "data_sums_mb['conscientious'] = df_mb[csn].sum(axis=1)/10\n",
    "data_sums_mb['open'] = df_mb[opn].sum(axis=1)/10\n",
    "data_sums_mb['clusters'] = mbKMeans.labels_\n",
    "data_sums_mb.groupby('clusters').mean()"
   ]
  },
  {
   "cell_type": "markdown",
   "metadata": {},
   "source": [
    "### Computing the PCA"
   ]
  },
  {
   "cell_type": "code",
   "execution_count": null,
   "metadata": {},
   "outputs": [],
   "source": [
    "pca_mb = PCA(n_components=2)\n",
    "pca_mb_fit = pca_mb.fit_transform(df_mb)\n",
    "\n",
    "df_pca_mb = pd.DataFrame(data=pca_mb_fit, columns=['PCA1', 'PCA2'])\n",
    "df_pca_mb['Clusters'] = mbKMeans.labels_\n",
    "# TSNE"
   ]
  },
  {
   "cell_type": "markdown",
   "metadata": {},
   "source": [
    "### Visualizing the Model"
   ]
  },
  {
   "cell_type": "code",
   "execution_count": null,
   "metadata": {},
   "outputs": [],
   "source": [
    "plt.figure(figsize=(10,10))\n",
    "sns.scatterplot(data=df_pca_mb, x='PCA1', y='PCA2', hue='Clusters', palette='tab10', alpha=0.8)\n",
    "plt.title('Personality Clusters after PCA (Mini-Batch K-means)');"
   ]
  },
  {
   "cell_type": "markdown",
   "metadata": {},
   "source": [
    "## Gaussian Mixture Model\n",
    "\n",
    "explain"
   ]
  },
  {
   "cell_type": "code",
   "execution_count": null,
   "metadata": {},
   "outputs": [],
   "source": [
    "df_gmm = data\n",
    "\n",
    "gmm = GaussianMixture(n_components=5, random_state=42)\n",
    "gmm.fit(df_gmm)\n",
    "\n",
    "# Create a new column of clusters to predict the data\n",
    "df_gmm['Cluster'] = gmm.predict(df_gmm)"
   ]
  },
  {
   "cell_type": "markdown",
   "metadata": {},
   "source": [
    "### Get Mean\n",
    "\n",
    "explain"
   ]
  },
  {
   "cell_type": "code",
   "execution_count": null,
   "metadata": {},
   "outputs": [],
   "source": [
    "col_list = list(df_gmm)\n",
    "ext = col_list[0:10]\n",
    "est = col_list[10:20]\n",
    "agr = col_list[20:30]\n",
    "csn = col_list[30:40]\n",
    "opn = col_list[40:50]\n",
    "\n",
    "data_sums_gmm = pd.DataFrame()\n",
    "data_sums_gmm['extroversion'] = df_gmm[ext].sum(axis=1)/10\n",
    "data_sums_gmm['neurotic'] = df_gmm[est].sum(axis=1)/10\n",
    "data_sums_gmm['agreeable'] = df_gmm[agr].sum(axis=1)/10\n",
    "data_sums_gmm['conscientious'] = df_gmm[csn].sum(axis=1)/10\n",
    "data_sums_gmm['open'] = df_gmm[opn].sum(axis=1)/10\n",
    "data_sums_gmm['clusters'] = df_gmm['Cluster']\n",
    "data_sums_gmm.groupby('clusters').mean()"
   ]
  },
  {
   "cell_type": "markdown",
   "metadata": {},
   "source": [
    "### Computing for the PCA"
   ]
  },
  {
   "cell_type": "code",
   "execution_count": null,
   "metadata": {},
   "outputs": [],
   "source": [
    "pca_gmm = PCA(n_components=2)\n",
    "pca_gmm_fit = pca_mb.fit_transform(df_gmm)\n",
    "\n",
    "df_pca_gmm = pd.DataFrame(data=pca_gmm_fit, columns=['PCA1', 'PCA2'])\n",
    "df_pca_gmm['Clusters'] = list(df_gmm['Cluster'])"
   ]
  },
  {
   "cell_type": "markdown",
   "metadata": {},
   "source": [
    "### Visualizing the Clusters with PCA\n",
    "\n",
    "explain"
   ]
  },
  {
   "cell_type": "code",
   "execution_count": null,
   "metadata": {},
   "outputs": [],
   "source": [
    "plt.figure(figsize=(10,10))\n",
    "sns.scatterplot(data=df_pca_gmm, x='PCA1', y='PCA2', hue='Clusters', palette='tab10', alpha=0.8)\n",
    "plt.title('Personality Clusters after PCA (Gaussian Mixture Model)');"
   ]
  },
  {
   "cell_type": "markdown",
   "metadata": {},
   "source": [
    "### Validating and Evaluating the Clusters"
   ]
  },
  {
   "cell_type": "code",
   "execution_count": null,
   "metadata": {},
   "outputs": [],
   "source": [
    "# remove column cluster\n",
    "col = list(df_pca.columns)\n",
    "col.remove(\"Clusters\")\n",
    "col\n",
    "\n",
    "df_eval = pd.DataFrame(columns=[\"Model\", \"Calinski-Harabasz\", \"Davies_Bouldin\", \"Silhouette\"])\n",
    "print(\"Computing Scores in K-Means...\")\n",
    "df_eval.loc[len(df_eval.index)]= [\"K-means\", calinski_harabasz_score(df_pca[col], df_pca['Clusters']), davies_bouldin_score(df_pca[col], df_pca['Clusters']), silhouette_score(df_pca[col], df_pca['Clusters'], metric='euclidean', sample_size=100000)] \n",
    "print(\"Computing Scores in Mini-Batch K-means...\")\n",
    "df_eval.loc[len(df_eval.index)]= [\"Mini-Batch K-means\", calinski_harabasz_score(df_pca_mb[col], df_pca_mb['Clusters']), davies_bouldin_score(df_pca_mb[col], df_pca_mb['Clusters']), silhouette_score(df_pca_mb[col], df_pca_mb['Clusters'], metric='euclidean', sample_size=100000)] \n",
    "print(\"Computing Scores in Gaussian Mixture Model...\")\n",
    "df_eval.loc[len(df_eval.index)]= [\"Gaussian Mixture Model\", calinski_harabasz_score(df_pca_gmm[col], df_pca_gmm['Clusters']), davies_bouldin_score(df_pca_gmm[col], df_pca_gmm['Clusters']), silhouette_score(df_pca_gmm[col], df_pca_gmm['Clusters'], metric='euclidean', sample_size=100000)] "
   ]
  },
  {
   "cell_type": "code",
   "execution_count": null,
   "metadata": {},
   "outputs": [],
   "source": [
    "df_eval"
   ]
  },
  {
   "cell_type": "markdown",
   "metadata": {},
   "source": [
    "## Exploratory Data Analysis (EDA)\n",
    "\n",
    "Among the three models, the `Gaussian Mixture` Model was the Model that produced the best clustering of data. However in this experiment, we will be analyzing the results from `K-means clustering` as it is the most widely among the `3`.\n",
    "\n",
    "The Mean and Standard Deviation of the result for each question was grouped by cluster and is stored in `df_cluster` and `df_cluster_std` respectively in the code below."
   ]
  },
  {
   "cell_type": "code",
   "execution_count": null,
   "metadata": {},
   "outputs": [],
   "source": [
    "df_cluster = df.groupby('Cluster').mean()\n",
    "df_cluster_std = df.groupby('Cluster').std()"
   ]
  },
  {
   "cell_type": "markdown",
   "metadata": {},
   "source": [
    "### Extroversion Questions\n",
    "\n",
    "#### Cluster Mean vs Population Mean comparison"
   ]
  },
  {
   "cell_type": "code",
   "execution_count": null,
   "metadata": {},
   "outputs": [],
   "source": [
    "EXT_df_cluster = [column for column in df_cluster if column.startswith('EXT')]\n",
    "compare_two_graphs(EXT, ext_questions, df_cluster[EXT_df_cluster].values.transpose(), df[EXT_df_cluster].mean().transpose(), \"Cluster \", \"Population Mean\")"
   ]
  },
  {
   "cell_type": "markdown",
   "metadata": {},
   "source": [
    "##### Analysis\n",
    "\n",
    "In general, it can be seen that most respondents in `cluster 0` and `cluster 3` are both similar when it comes to extroversion response. They lean more into the non-extroverted side as most responses on the even questions which are questions pointing towards extroversion lean more on the negative side while most responses on the odd questions which point towards introversion lean largely on the positive side. On the other hand, the other 3 clusters which are clusters `1`, `2`, and `4` have most of their respondents mostly on the pro-extroversion side with `cluster 4` being the cluster with the most positive responses with regards to extroversion behavior.\n",
    "\n",
    "Comparing this to the mean of the population, the general trend from the results is that overall, a bit more of the respondents show traits aligning to extroversion than there are not.\n"
   ]
  },
  {
   "cell_type": "markdown",
   "metadata": {},
   "source": [
    "#### Cluster Standard Deviation vs Population Standard Deviation comparison\n",
    "\n"
   ]
  },
  {
   "cell_type": "code",
   "execution_count": null,
   "metadata": {
    "scrolled": false
   },
   "outputs": [],
   "source": [
    "compare_two_graphs(EXT, ext_questions, df_cluster_std[EXT_df_cluster].values.transpose(), df[EXT_df_cluster].std().transpose(), \"Cluster \", \"Population STD\")"
   ]
  },
  {
   "cell_type": "markdown",
   "metadata": {},
   "source": [
    "### Emotional Stability Questions\n",
    "\n",
    "#### Cluster Mean vs Population Mean comparison"
   ]
  },
  {
   "cell_type": "code",
   "execution_count": null,
   "metadata": {
    "scrolled": false
   },
   "outputs": [],
   "source": [
    "EST_df_cluster = [column for column in df_cluster if column.startswith('EST')]\n",
    "compare_two_graphs(EST, est_questions, df_cluster[EST_df_cluster].values.transpose(), df[EST_df_cluster].mean().transpose(), \"Cluster \", \"Population Mean\")"
   ]
  },
  {
   "cell_type": "markdown",
   "metadata": {},
   "source": [
    "##### Analysis\n",
    "\n",
    "Unlike extroversion, the responses of the respondents in each cluster varies for each question. However it can be noted that a large majority of the respondents in all clusters answered positively when it came to `EST3` which is `I am relaxed most of the time` with `cluster 3` having the lowest mean. In addition, cluster `1` and `3` generally have the same trend of responses aligning more into high emotional stability with negative average responses on most questions. `cluster 0` and `cluster 4` on the other hand generally responded positively to questions pointing to emotional instability.\n",
    "\n",
    "Looking at the population mean, it can be seen that most respondents generally lean more towards having emotional stability although moderately as the mean generally drifts near `0.0` in most questions."
   ]
  },
  {
   "cell_type": "markdown",
   "metadata": {},
   "source": [
    "#### Cluster Standard Deviation vs Population Standard Deviation comparison"
   ]
  },
  {
   "cell_type": "code",
   "execution_count": null,
   "metadata": {
    "scrolled": false
   },
   "outputs": [],
   "source": [
    "print(\"Emotional Stability Questions: Cluster Standard Deviation vs Population Standard Deviation comparison\")\n",
    "compare_two_graphs(EST, est_questions, df_cluster_std[EST_df_cluster].values.transpose(), df[EST_df_cluster].std().transpose(), \"Cluster \", \"Population STD\")"
   ]
  },
  {
   "cell_type": "markdown",
   "metadata": {},
   "source": [
    "### Conscientiousness Questions\n",
    "\n",
    "#### Cluster Mean vs Population Mean comparison"
   ]
  },
  {
   "cell_type": "code",
   "execution_count": null,
   "metadata": {},
   "outputs": [],
   "source": [
    "CSN_df_cluster = [column for column in df_cluster if column.startswith('CSN')]\n",
    "compare_two_graphs(CSN, csn_questions, df_cluster[CSN_df_cluster].values.transpose(), df[CSN_df_cluster].mean().transpose(), \"Cluster \", \"Population Mean\")"
   ]
  },
  {
   "cell_type": "markdown",
   "metadata": {},
   "source": [
    "##### Analysis\n",
    "\n",
    "Looking at the means when it comes to questions related to conscientiousness, For all clusters, a large majority responded positively to questions `3`, `7`, and `10`. Question `3` and `7` pertains to poor item management with questions on how often the respondents forget to put items back in their place and if they leave their belongings around while question `10` is with regards to proper time management asking if the respondents follow a schedule. This indicates that a majority of the population at the very least manages their time well but are also lacking when it comes to item management. With regards to the trend between clusters, the average responses in `Cluster 1` and `Cluster 3` are similar with responses leaning more to negative. On the other hand, cluster `0`, `2`, and `3`'s responses are generally the opposite of cluster `1` and `3` except for question `4` where `cluster 2` leaned more into the negative as opposed to conscientiousness."
   ]
  },
  {
   "cell_type": "markdown",
   "metadata": {},
   "source": [
    "#### Cluster Standard Deviation vs Population Standard Deviation comparison"
   ]
  },
  {
   "cell_type": "code",
   "execution_count": null,
   "metadata": {},
   "outputs": [],
   "source": [
    "compare_two_graphs(CSN, csn_questions, df_cluster_std[CSN_df_cluster].values.transpose(), df[CSN_df_cluster].std().transpose(), \"Cluster \", \"Population STD\")"
   ]
  },
  {
   "cell_type": "markdown",
   "metadata": {},
   "source": [
    "### Agreeableness Questions\n",
    "\n",
    "#### Cluster Mean vs Population Mean comparison"
   ]
  },
  {
   "cell_type": "code",
   "execution_count": null,
   "metadata": {
    "scrolled": false
   },
   "outputs": [],
   "source": [
    "AGR_df_cluster = [column for column in df_cluster if column.startswith('AGR')]\n",
    "compare_two_graphs(AGR, agr_questions, df_cluster[AGR_df_cluster].values.transpose(), df[AGR_df_cluster].mean().transpose(), \"Cluster\", \"Population Mean\")"
   ]
  },
  {
   "cell_type": "markdown",
   "metadata": {},
   "source": [
    "##### Analysis\n",
    "\n",
    "When it comes to agreeableness,`4` out of the `5` clusters have very similar responses for all questions. With clusters `0`, `1`, `3`, and `4` generally having responses leaning away from agreeableness while question `2` gets varied responses with the majority being toward agreeableness. With there being only 1 cluster that is an outlier, the overall population mean for each question shows that most of the respondents are not agreeable."
   ]
  },
  {
   "cell_type": "markdown",
   "metadata": {},
   "source": [
    "#### Cluster Standard Deviation vs Population Standard Deviation comparison"
   ]
  },
  {
   "cell_type": "code",
   "execution_count": null,
   "metadata": {},
   "outputs": [],
   "source": [
    "compare_two_graphs(AGR, agr_questions, df_cluster_std[AGR_df_cluster].values.transpose(), df[AGR_df_cluster].std().transpose(), \"Cluster\", \"Population STD\")"
   ]
  },
  {
   "cell_type": "markdown",
   "metadata": {},
   "source": [
    "### Openness Questions\n",
    "\n",
    "#### Cluster Mean vs Population Mean comparison"
   ]
  },
  {
   "cell_type": "code",
   "execution_count": null,
   "metadata": {
    "scrolled": false
   },
   "outputs": [],
   "source": [
    "OPN_df_cluster = [column for column in df_cluster if column.startswith('OPN')]\n",
    "compare_two_graphs(OPN, opn_questions, df_cluster[OPN_df_cluster].values.transpose(), df[OPN_df_cluster].mean().transpose(), \"Cluster\", \"Population Mean\")"
   ]
  },
  {
   "cell_type": "markdown",
   "metadata": {},
   "source": [
    "##### Analysis\n",
    "\n",
    "All the responses in the cluster follows the same trend when it comes to questions about intellect, imagination, and openness. Most of the respondents in the clusters lean away from intellect and imagination with negative responses towards abstract ideas and understanding them as well as imagination and excellent ideas. On the other hand, the clusters lean more positively to questions about openness with a positive mean on questions regarding reflection, understanding, and ideas. The only outlier is `cluster 1` in question `8` whose responses generally leaned more towards being slow when it comes to understanding things."
   ]
  },
  {
   "cell_type": "markdown",
   "metadata": {},
   "source": [
    "#### Cluster Standard Deviation vs Population Standard Deviation comparison"
   ]
  },
  {
   "cell_type": "code",
   "execution_count": null,
   "metadata": {},
   "outputs": [],
   "source": [
    "compare_two_graphs(OPN, opn_questions, df_cluster_std[OPN_df_cluster].values.transpose(), df[OPN_df_cluster].std().transpose(), \"Cluster\", \"Population STD\")"
   ]
  },
  {
   "cell_type": "code",
   "execution_count": null,
   "metadata": {},
   "outputs": [],
   "source": []
  }
 ],
 "metadata": {
  "interpreter": {
   "hash": "f08154012ddadd8e950e6e9e035c7a7b32c136e7647e9b7c77e02eb723a8bedb"
  },
  "kernelspec": {
   "display_name": "Python 3 (ipykernel)",
   "language": "python",
   "name": "python3"
  },
  "language_info": {
   "codemirror_mode": {
    "name": "ipython",
    "version": 3
   },
   "file_extension": ".py",
   "mimetype": "text/x-python",
   "name": "python",
   "nbconvert_exporter": "python",
   "pygments_lexer": "ipython3",
   "version": "3.10.0"
  }
 },
 "nbformat": 4,
 "nbformat_minor": 2
}
