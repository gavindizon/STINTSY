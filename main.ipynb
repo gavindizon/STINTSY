{
 "cells": [
  {
   "cell_type": "markdown",
   "metadata": {},
   "source": [
    "# Group 12\n",
    "### Members:\n",
    "- DIZON, GAVIN RAINE R.\n",
    "- PALMARES, ALYSSA JAYE L.\n",
    "- TEE, GIANCARLO T."
   ]
  },
  {
   "cell_type": "markdown",
   "metadata": {},
   "source": []
  }
 ],
 "metadata": {
  "language_info": {
   "name": "python"
  },
  "orig_nbformat": 4
 },
 "nbformat": 4,
 "nbformat_minor": 2
}
